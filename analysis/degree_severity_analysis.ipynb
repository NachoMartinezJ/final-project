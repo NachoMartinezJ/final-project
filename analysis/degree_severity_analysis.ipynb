{
 "cells": [
  {
   "cell_type": "code",
   "execution_count": 1,
   "metadata": {},
   "outputs": [
    {
     "data": {
      "text/html": [
       "<script type=\"text/javascript\">window.PlotlyConfig = {MathJaxConfig: 'local'};</script><script type=\"text/javascript\">if (window.MathJax) {MathJax.Hub.Config({SVG: {font: \"STIX-Web\"}});}</script><script>requirejs.config({paths: { 'plotly': ['https://cdn.plot.ly/plotly-latest.min']},});if(!window._Plotly) {require(['plotly'],function(plotly) {window._Plotly=plotly;});}</script>"
      ],
      "text/vnd.plotly.v1+html": [
       "<script type=\"text/javascript\">window.PlotlyConfig = {MathJaxConfig: 'local'};</script><script type=\"text/javascript\">if (window.MathJax) {MathJax.Hub.Config({SVG: {font: \"STIX-Web\"}});}</script><script>requirejs.config({paths: { 'plotly': ['https://cdn.plot.ly/plotly-latest.min']},});if(!window._Plotly) {require(['plotly'],function(plotly) {window._Plotly=plotly;});}</script>"
      ]
     },
     "metadata": {},
     "output_type": "display_data"
    }
   ],
   "source": [
    "import pandas as pd\n",
    "import numpy as np\n",
    "import plotly.plotly as py\n",
    "import plotly.graph_objs as go\n",
    "import seaborn as sns\n",
    "import matplotlib.pyplot as plt\n",
    "import plotly.plotly as py\n",
    "import cufflinks as cf\n",
    "cf.go_offline()\n",
    "from ipywidgets import interact\n",
    "\n",
    "from scipy import stats\n",
    "import scipy.stats as stats\n",
    "import statsmodels as sm"
   ]
  },
  {
   "cell_type": "code",
   "execution_count": 2,
   "metadata": {},
   "outputs": [],
   "source": [
    "chicago_cmr = pd.read_csv('/Users/adrientalbot/Documents/final-project/data/chicago_clean.csv')"
   ]
  },
  {
   "cell_type": "code",
   "execution_count": 3,
   "metadata": {},
   "outputs": [],
   "source": [
    "chicago_formatted = chicago_cmr.drop(columns = ['Location Description','Domestic', 'Beat','District', 'Latitude','Longitude', 'Location'])"
   ]
  },
  {
   "cell_type": "code",
   "execution_count": 4,
   "metadata": {},
   "outputs": [
    {
     "data": {
      "text/html": [
       "<div>\n",
       "<style scoped>\n",
       "    .dataframe tbody tr th:only-of-type {\n",
       "        vertical-align: middle;\n",
       "    }\n",
       "\n",
       "    .dataframe tbody tr th {\n",
       "        vertical-align: top;\n",
       "    }\n",
       "\n",
       "    .dataframe thead th {\n",
       "        text-align: right;\n",
       "    }\n",
       "</style>\n",
       "<table border=\"1\" class=\"dataframe\">\n",
       "  <thead>\n",
       "    <tr style=\"text-align: right;\">\n",
       "      <th></th>\n",
       "      <th>Date</th>\n",
       "      <th>IUCR</th>\n",
       "      <th>Primary Type</th>\n",
       "      <th>Description</th>\n",
       "      <th>Arrest</th>\n",
       "      <th>Year</th>\n",
       "    </tr>\n",
       "  </thead>\n",
       "  <tbody>\n",
       "    <tr>\n",
       "      <th>0</th>\n",
       "      <td>2001-01-01 00:00:00</td>\n",
       "      <td>0840</td>\n",
       "      <td>THEFT</td>\n",
       "      <td>FINANCIAL ID THEFT: OVER $300</td>\n",
       "      <td>0</td>\n",
       "      <td>2001</td>\n",
       "    </tr>\n",
       "    <tr>\n",
       "      <th>1</th>\n",
       "      <td>2001-01-01 00:00:00</td>\n",
       "      <td>1752</td>\n",
       "      <td>OFFENSE INVOLVING CHILDREN</td>\n",
       "      <td>AGG CRIM SEX ABUSE FAM MEMBER</td>\n",
       "      <td>0</td>\n",
       "      <td>2001</td>\n",
       "    </tr>\n",
       "    <tr>\n",
       "      <th>2</th>\n",
       "      <td>2001-01-01 00:00:00</td>\n",
       "      <td>0810</td>\n",
       "      <td>THEFT</td>\n",
       "      <td>OVER $500</td>\n",
       "      <td>0</td>\n",
       "      <td>2001</td>\n",
       "    </tr>\n",
       "    <tr>\n",
       "      <th>3</th>\n",
       "      <td>2001-01-01 00:00:00</td>\n",
       "      <td>0840</td>\n",
       "      <td>THEFT</td>\n",
       "      <td>FINANCIAL ID THEFT: OVER $300</td>\n",
       "      <td>0</td>\n",
       "      <td>2001</td>\n",
       "    </tr>\n",
       "    <tr>\n",
       "      <th>4</th>\n",
       "      <td>2001-01-01 00:00:00</td>\n",
       "      <td>1754</td>\n",
       "      <td>OFFENSE INVOLVING CHILDREN</td>\n",
       "      <td>AGG SEX ASSLT OF CHILD FAM MBR</td>\n",
       "      <td>0</td>\n",
       "      <td>2001</td>\n",
       "    </tr>\n",
       "  </tbody>\n",
       "</table>\n",
       "</div>"
      ],
      "text/plain": [
       "                  Date  IUCR                Primary Type  \\\n",
       "0  2001-01-01 00:00:00  0840                       THEFT   \n",
       "1  2001-01-01 00:00:00  1752  OFFENSE INVOLVING CHILDREN   \n",
       "2  2001-01-01 00:00:00  0810                       THEFT   \n",
       "3  2001-01-01 00:00:00  0840                       THEFT   \n",
       "4  2001-01-01 00:00:00  1754  OFFENSE INVOLVING CHILDREN   \n",
       "\n",
       "                      Description  Arrest  Year  \n",
       "0   FINANCIAL ID THEFT: OVER $300       0  2001  \n",
       "1   AGG CRIM SEX ABUSE FAM MEMBER       0  2001  \n",
       "2                       OVER $500       0  2001  \n",
       "3   FINANCIAL ID THEFT: OVER $300       0  2001  \n",
       "4  AGG SEX ASSLT OF CHILD FAM MBR       0  2001  "
      ]
     },
     "execution_count": 4,
     "metadata": {},
     "output_type": "execute_result"
    }
   ],
   "source": [
    "chicago_formatted.head()"
   ]
  },
  {
   "cell_type": "code",
   "execution_count": 5,
   "metadata": {},
   "outputs": [
    {
     "data": {
      "text/plain": [
       "SIMPLE                                          802853\n",
       "$500 AND UNDER                                  550552\n",
       "DOMESTIC BATTERY SIMPLE                         524869\n",
       "TO VEHICLE                                      377252\n",
       "TO PROPERTY                                     358177\n",
       "OVER $500                                       350548\n",
       "POSS: CANNABIS 30GMS OR LESS                    275141\n",
       "FORCIBLE ENTRY                                  264301\n",
       "AUTOMOBILE                                      247121\n",
       "FROM BUILDING                                   229303\n",
       "RETAIL THEFT                                    170845\n",
       "TELEPHONE THREAT                                135218\n",
       "TO LAND                                         120814\n",
       "POSS: CRACK                                     118283\n",
       "UNLAWFUL ENTRY                                  103795\n",
       "HARASSMENT BY TELEPHONE                         100631\n",
       "AGGRAVATED: OTHER DANG WEAPON                    93712\n",
       "POSS: HEROIN(WHITE)                              91971\n",
       "ARMED: HANDGUN                                   91197\n",
       "STRONGARM - NO WEAPON                            89194\n",
       "AGGRAVATED: HANDGUN                              85143\n",
       "AGGRAVATED:KNIFE/CUTTING INSTR                   57235\n",
       "CREDIT CARD FRAUD                                53907\n",
       "UNLAWFUL POSS OF HANDGUN                         48184\n",
       "SOLICIT ON PUBLIC WAY                            47004\n",
       "FINANCIAL ID THEFT: OVER $300                    40270\n",
       "OTHER VEHICLE OFFENSE                            36395\n",
       "TO STATE SUP LAND                                36220\n",
       "VIOLATE ORDER OF PROTECTION                      34034\n",
       "CRIMINAL DEFACEMENT                              33860\n",
       "                                                 ...  \n",
       "CONTRABAND IN PRISON                                 6\n",
       "LOTTERY/OTHER                                        6\n",
       "LOTTERY/PARLAY CARDS                                 6\n",
       "AGG RITUAL MUT:KNIFE/CUTTING I                       5\n",
       "VIOLATION OF SUMMARY CLOSURE                         5\n",
       "ATT AGG CRIM SEXUAL ABUSE                            5\n",
       "CONCEALED CARRY LICENSE REVOCATION                   5\n",
       "FAIL REGISTER LIC:CONT SUBS                          5\n",
       "AGG RITUAL MUT:HANDGUN                               5\n",
       "AGG RITUAL MUT:OTH DANG WEAPON                       5\n",
       "REGISTER OF SALES BY DEALER                          5\n",
       "FOUND PASSPORT                                       4\n",
       "POLICY/OTHER                                         4\n",
       "AGG RIT MUT: HANDS/FIST/FEET SERIOUS INJURY          4\n",
       "ARSONIST: DUTY TO REGISTER                           4\n",
       "INTIMIDATION OF LAW ENFORCEMENT OFFICIAL             4\n",
       "USE OF METAL PIERCING BULLETS                        4\n",
       "INVOLUNTARY MANSLAUGHTER                             3\n",
       "ATTEMPT AGG: OTHER FIREARM                           3\n",
       "ARSONIST: FAIL TO REGISTER NEW ADDRESS               3\n",
       "AGG RIT MUT: HANDS/FIST/FEET NO/MINOR INJURY         3\n",
       "GUN OFFENDER NOTIFICATION-NO CONTACT                 3\n",
       "NATIONAL LOTTERY                                     2\n",
       "REGISTER FED GAMBLING STAMP                          2\n",
       "MARRYING A BIGAMIST                                  1\n",
       "DISCLOSE DV VICTIM LOCATION                          1\n",
       "DOMESTIC VIOLENCE                                    1\n",
       "THEFT RETAIL                                         1\n",
       "KEEP PLACE OF JUV PROSTITUTION                       1\n",
       "SPORTS TAMPERING                                     1\n",
       "Name: Description, Length: 379, dtype: int64"
      ]
     },
     "execution_count": 5,
     "metadata": {},
     "output_type": "execute_result"
    }
   ],
   "source": [
    "chicago_formatted['Description'].value_counts()"
   ]
  },
  {
   "cell_type": "code",
   "execution_count": 6,
   "metadata": {},
   "outputs": [],
   "source": [
    "primary_type_count = chicago_formatted['Primary Type'].value_counts()"
   ]
  },
  {
   "cell_type": "code",
   "execution_count": 7,
   "metadata": {},
   "outputs": [],
   "source": [
    "df_primary_type_count = pd.DataFrame(primary_type_count).reset_index().rename({\"index\": \"primary type\", \"Primary Type\": \"count\"}, axis = 1)"
   ]
  },
  {
   "cell_type": "code",
   "execution_count": 8,
   "metadata": {},
   "outputs": [],
   "source": [
    "top_20_primary = df_primary_type_count[df_primary_type_count['count'] > 14000]"
   ]
  },
  {
   "cell_type": "code",
   "execution_count": 9,
   "metadata": {},
   "outputs": [
    {
     "data": {
      "text/plain": [
       "array(['THEFT', 'BATTERY', 'CRIMINAL DAMAGE', 'NARCOTICS', 'ASSAULT',\n",
       "       'OTHER OFFENSE', 'BURGLARY', 'MOTOR VEHICLE THEFT',\n",
       "       'DECEPTIVE PRACTICE', 'ROBBERY', 'CRIMINAL TRESPASS',\n",
       "       'WEAPONS VIOLATION', 'PROSTITUTION', 'PUBLIC PEACE VIOLATION',\n",
       "       'OFFENSE INVOLVING CHILDREN', 'CRIM SEXUAL ASSAULT', 'SEX OFFENSE',\n",
       "       'INTERFERENCE WITH PUBLIC OFFICER', 'GAMBLING',\n",
       "       'LIQUOR LAW VIOLATION'], dtype=object)"
      ]
     },
     "execution_count": 9,
     "metadata": {},
     "output_type": "execute_result"
    }
   ],
   "source": [
    "top_20_primary['primary type'].unique()"
   ]
  },
  {
   "cell_type": "code",
   "execution_count": 10,
   "metadata": {},
   "outputs": [
    {
     "data": {
      "text/plain": [
       "['THEFT',\n",
       " 'BATTERY',\n",
       " 'CRIMINAL DAMAGE',\n",
       " 'NARCOTICS',\n",
       " 'ASSAULT',\n",
       " 'OTHER OFFENSE',\n",
       " 'BURGLARY',\n",
       " 'MOTOR VEHICLE THEFT',\n",
       " 'DECEPTIVE PRACTICE',\n",
       " 'ROBBERY',\n",
       " 'CRIMINAL TRESPASS',\n",
       " 'WEAPONS VIOLATION',\n",
       " 'PROSTITUTION',\n",
       " 'PUBLIC PEACE VIOLATION',\n",
       " 'OFFENSE INVOLVING CHILDREN',\n",
       " 'CRIM SEXUAL ASSAULT',\n",
       " 'SEX OFFENSE',\n",
       " 'INTERFERENCE WITH PUBLIC OFFICER',\n",
       " 'GAMBLING',\n",
       " 'LIQUOR LAW VIOLATION']"
      ]
     },
     "execution_count": 10,
     "metadata": {},
     "output_type": "execute_result"
    }
   ],
   "source": [
    "top_20_primary_array = top_20_primary['primary type'].unique()\n",
    "top_20_primary_lst = list(top_20_primary_array)\n",
    "top_20_primary_lst "
   ]
  },
  {
   "cell_type": "code",
   "execution_count": 11,
   "metadata": {},
   "outputs": [],
   "source": [
    "chicago_formatted_primary = chicago_formatted[chicago_formatted['Primary Type'].isin(top_20_primary_lst)]"
   ]
  },
  {
   "cell_type": "code",
   "execution_count": 12,
   "metadata": {},
   "outputs": [],
   "source": [
    "description_count = chicago_formatted_primary['Description'].value_counts()"
   ]
  },
  {
   "cell_type": "code",
   "execution_count": 13,
   "metadata": {},
   "outputs": [],
   "source": [
    "df_description_count = pd.DataFrame(description_count).reset_index().rename({\"index\": \"description\", \"Description\": \"count\"}, axis = 1)"
   ]
  },
  {
   "cell_type": "code",
   "execution_count": 14,
   "metadata": {},
   "outputs": [],
   "source": [
    "top_20_description = df_description_count[df_description_count['count'] > 89000]"
   ]
  },
  {
   "cell_type": "code",
   "execution_count": 15,
   "metadata": {},
   "outputs": [
    {
     "data": {
      "text/plain": [
       "['SIMPLE',\n",
       " '$500 AND UNDER',\n",
       " 'DOMESTIC BATTERY SIMPLE',\n",
       " 'TO VEHICLE',\n",
       " 'TO PROPERTY',\n",
       " 'OVER $500',\n",
       " 'POSS: CANNABIS 30GMS OR LESS',\n",
       " 'FORCIBLE ENTRY',\n",
       " 'AUTOMOBILE',\n",
       " 'FROM BUILDING',\n",
       " 'RETAIL THEFT',\n",
       " 'TELEPHONE THREAT',\n",
       " 'TO LAND',\n",
       " 'POSS: CRACK',\n",
       " 'UNLAWFUL ENTRY',\n",
       " 'HARASSMENT BY TELEPHONE',\n",
       " 'AGGRAVATED: OTHER DANG WEAPON',\n",
       " 'POSS: HEROIN(WHITE)',\n",
       " 'ARMED: HANDGUN',\n",
       " 'STRONGARM - NO WEAPON']"
      ]
     },
     "execution_count": 15,
     "metadata": {},
     "output_type": "execute_result"
    }
   ],
   "source": [
    "top_20_description_array = top_20_description['description'].unique()\n",
    "top_20_description_lst = list(top_20_description_array)\n",
    "top_20_description_lst"
   ]
  },
  {
   "cell_type": "code",
   "execution_count": 16,
   "metadata": {},
   "outputs": [],
   "source": [
    "chicago_formatted_primary_description = chicago_formatted_primary[chicago_formatted_primary['Description'].isin(top_20_description_lst)]"
   ]
  },
  {
   "cell_type": "code",
   "execution_count": 20,
   "metadata": {},
   "outputs": [
    {
     "data": {
      "text/html": [
       "<div>\n",
       "<style scoped>\n",
       "    .dataframe tbody tr th:only-of-type {\n",
       "        vertical-align: middle;\n",
       "    }\n",
       "\n",
       "    .dataframe tbody tr th {\n",
       "        vertical-align: top;\n",
       "    }\n",
       "\n",
       "    .dataframe thead th {\n",
       "        text-align: right;\n",
       "    }\n",
       "</style>\n",
       "<table border=\"1\" class=\"dataframe\">\n",
       "  <thead>\n",
       "    <tr style=\"text-align: right;\">\n",
       "      <th></th>\n",
       "      <th>Date</th>\n",
       "      <th>IUCR</th>\n",
       "      <th>Primary Type</th>\n",
       "      <th>Description</th>\n",
       "      <th>Arrest</th>\n",
       "      <th>Year</th>\n",
       "    </tr>\n",
       "  </thead>\n",
       "  <tbody>\n",
       "    <tr>\n",
       "      <th>2</th>\n",
       "      <td>2001-01-01 00:00:00</td>\n",
       "      <td>0810</td>\n",
       "      <td>THEFT</td>\n",
       "      <td>OVER $500</td>\n",
       "      <td>0</td>\n",
       "      <td>2001</td>\n",
       "    </tr>\n",
       "    <tr>\n",
       "      <th>5</th>\n",
       "      <td>2001-01-01 00:00:00</td>\n",
       "      <td>0810</td>\n",
       "      <td>THEFT</td>\n",
       "      <td>OVER $500</td>\n",
       "      <td>0</td>\n",
       "      <td>2001</td>\n",
       "    </tr>\n",
       "    <tr>\n",
       "      <th>8</th>\n",
       "      <td>2001-01-01 00:00:00</td>\n",
       "      <td>0560</td>\n",
       "      <td>ASSAULT</td>\n",
       "      <td>SIMPLE</td>\n",
       "      <td>0</td>\n",
       "      <td>2001</td>\n",
       "    </tr>\n",
       "    <tr>\n",
       "      <th>13</th>\n",
       "      <td>2001-01-01 00:00:00</td>\n",
       "      <td>0820</td>\n",
       "      <td>THEFT</td>\n",
       "      <td>$500 AND UNDER</td>\n",
       "      <td>0</td>\n",
       "      <td>2001</td>\n",
       "    </tr>\n",
       "    <tr>\n",
       "      <th>15</th>\n",
       "      <td>2001-01-01 00:00:00</td>\n",
       "      <td>0820</td>\n",
       "      <td>THEFT</td>\n",
       "      <td>$500 AND UNDER</td>\n",
       "      <td>0</td>\n",
       "      <td>2001</td>\n",
       "    </tr>\n",
       "  </tbody>\n",
       "</table>\n",
       "</div>"
      ],
      "text/plain": [
       "                   Date  IUCR Primary Type     Description  Arrest  Year\n",
       "2   2001-01-01 00:00:00  0810        THEFT       OVER $500       0  2001\n",
       "5   2001-01-01 00:00:00  0810        THEFT       OVER $500       0  2001\n",
       "8   2001-01-01 00:00:00  0560      ASSAULT          SIMPLE       0  2001\n",
       "13  2001-01-01 00:00:00  0820        THEFT  $500 AND UNDER       0  2001\n",
       "15  2001-01-01 00:00:00  0820        THEFT  $500 AND UNDER       0  2001"
      ]
     },
     "execution_count": 20,
     "metadata": {},
     "output_type": "execute_result"
    }
   ],
   "source": [
    "chicago_formatted_primary_description.head()"
   ]
  },
  {
   "cell_type": "code",
   "execution_count": 21,
   "metadata": {},
   "outputs": [
    {
     "data": {
      "text/plain": [
       "array(['OVER $500', 'SIMPLE', '$500 AND UNDER', 'TO VEHICLE',\n",
       "       'HARASSMENT BY TELEPHONE', 'TO PROPERTY', 'TELEPHONE THREAT',\n",
       "       'AUTOMOBILE', 'UNLAWFUL ENTRY', 'TO LAND', 'STRONGARM - NO WEAPON',\n",
       "       'POSS: CANNABIS 30GMS OR LESS', 'POSS: CRACK',\n",
       "       'AGGRAVATED: OTHER DANG WEAPON', 'ARMED: HANDGUN',\n",
       "       'FORCIBLE ENTRY', 'FROM BUILDING', 'POSS: HEROIN(WHITE)',\n",
       "       'DOMESTIC BATTERY SIMPLE', 'RETAIL THEFT'], dtype=object)"
      ]
     },
     "execution_count": 21,
     "metadata": {},
     "output_type": "execute_result"
    }
   ],
   "source": [
    "chicago_formatted_primary_description['Description'].unique()"
   ]
  },
  {
   "cell_type": "code",
   "execution_count": 22,
   "metadata": {},
   "outputs": [
    {
     "data": {
      "text/plain": [
       "array(['THEFT', 'ASSAULT', 'CRIMINAL DAMAGE', 'OTHER OFFENSE', 'BATTERY',\n",
       "       'MOTOR VEHICLE THEFT', 'BURGLARY', 'CRIMINAL TRESPASS', 'ROBBERY',\n",
       "       'NARCOTICS', 'CRIM SEXUAL ASSAULT'], dtype=object)"
      ]
     },
     "execution_count": 22,
     "metadata": {},
     "output_type": "execute_result"
    }
   ],
   "source": [
    "chicago_formatted_primary_description['Primary Type'].unique()"
   ]
  },
  {
   "cell_type": "code",
   "execution_count": null,
   "metadata": {},
   "outputs": [],
   "source": []
  }
 ],
 "metadata": {
  "kernelspec": {
   "display_name": "Python 3",
   "language": "python",
   "name": "python3"
  },
  "language_info": {
   "codemirror_mode": {
    "name": "ipython",
    "version": 3
   },
   "file_extension": ".py",
   "mimetype": "text/x-python",
   "name": "python",
   "nbconvert_exporter": "python",
   "pygments_lexer": "ipython3",
   "version": "3.7.1"
  }
 },
 "nbformat": 4,
 "nbformat_minor": 2
}
